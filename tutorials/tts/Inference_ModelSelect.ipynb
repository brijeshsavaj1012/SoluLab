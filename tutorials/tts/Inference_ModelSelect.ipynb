{
  "cells": [
    {
      "cell_type": "markdown",
      "metadata": {
        "id": "E1vFbmFskVd1"
      },
      "source": [
        "# TTS Inference Model Selection\n",
        "\n",
        "This notebook can be used to generate audio samples using either NeMo's pretrained models or after training NeMo TTS models. This notebook supports all TTS models and is intended to showcase different models and how their results differ."
      ]
    },
    {
      "cell_type": "markdown",
      "metadata": {
        "id": "roIQ1bBakVd2"
      },
      "source": [
        "# License\n",
        "\n",
        "> Copyright 2020 NVIDIA. All Rights Reserved.\n",
        "> \n",
        "> Licensed under the Apache License, Version 2.0 (the \"License\");\n",
        "> you may not use this file except in compliance with the License.\n",
        "> You may obtain a copy of the License at\n",
        "> \n",
        ">     http://www.apache.org/licenses/LICENSE-2.0\n",
        "> \n",
        "> Unless required by applicable law or agreed to in writing, software\n",
        "> distributed under the License is distributed on an \"AS IS\" BASIS,\n",
        "> WITHOUT WARRANTIES OR CONDITIONS OF ANY KIND, either express or implied.\n",
        "> See the License for the specific language governing permissions and\n",
        "> limitations under the License."
      ]
    },
    {
      "cell_type": "code",
      "execution_count": 14,
      "metadata": {
        "tags": [],
        "id": "jD6EXnsJkVd3",
        "outputId": "b2ed0d96-fd2d-4906-db27-147b4dfb716d",
        "colab": {
          "base_uri": "https://localhost:8080/"
        }
      },
      "outputs": [
        {
          "output_type": "stream",
          "name": "stdout",
          "text": [
            "Reading package lists... Done\n",
            "Building dependency tree       \n",
            "Reading state information... Done\n",
            "libsndfile1 is already the newest version (1.0.28-4ubuntu0.18.04.2).\n",
            "ffmpeg is already the newest version (7:3.4.11-0ubuntu0.1).\n",
            "sox is already the newest version (14.4.2-3ubuntu0.18.04.1).\n",
            "The following package was automatically installed and is no longer required:\n",
            "  libnvidia-common-460\n",
            "Use 'apt autoremove' to remove it.\n",
            "0 upgraded, 0 newly installed, 0 to remove and 20 not upgraded.\n",
            "Looking in indexes: https://pypi.org/simple, https://us-python.pkg.dev/colab-wheels/public/simple/\n",
            "Requirement already satisfied: wget in /usr/local/lib/python3.7/dist-packages (3.2)\n",
            "Requirement already satisfied: unidecode in /usr/local/lib/python3.7/dist-packages (1.3.4)\n",
            "Looking in indexes: https://pypi.org/simple, https://us-python.pkg.dev/colab-wheels/public/simple/\n",
            "Collecting nemo_toolkit[all]\n",
            "  Cloning https://github.com/NVIDIA/NeMo.git (to revision r1.11.0) to /tmp/pip-install-48ybzg75/nemo-toolkit_1a8cf24458c44e5f9005949ba07473e4\n",
            "  Running command git clone -q https://github.com/NVIDIA/NeMo.git /tmp/pip-install-48ybzg75/nemo-toolkit_1a8cf24458c44e5f9005949ba07473e4\n",
            "  Running command git checkout -b r1.11.0 --track origin/r1.11.0\n",
            "  Switched to a new branch 'r1.11.0'\n",
            "  Branch 'r1.11.0' set up to track remote branch 'r1.11.0' from 'origin'.\n",
            "Requirement already satisfied: setuptools==59.5.0 in /usr/local/lib/python3.7/dist-packages (from nemo_toolkit[all]) (59.5.0)\n",
            "Requirement already satisfied: numpy>=1.21 in /usr/local/lib/python3.7/dist-packages (from nemo_toolkit[all]) (1.21.6)\n",
            "Requirement already satisfied: onnx>=1.7.0 in /usr/local/lib/python3.7/dist-packages (from nemo_toolkit[all]) (1.12.0)\n",
            "Requirement already satisfied: python-dateutil in /usr/local/lib/python3.7/dist-packages (from nemo_toolkit[all]) (2.8.2)\n",
            "Requirement already satisfied: torch in /usr/local/lib/python3.7/dist-packages (from nemo_toolkit[all]) (1.12.1+cu113)\n",
            "Requirement already satisfied: wrapt in /usr/local/lib/python3.7/dist-packages (from nemo_toolkit[all]) (1.14.1)\n",
            "Requirement already satisfied: ruamel.yaml in /usr/local/lib/python3.7/dist-packages (from nemo_toolkit[all]) (0.17.21)\n",
            "Requirement already satisfied: scikit-learn in /usr/local/lib/python3.7/dist-packages (from nemo_toolkit[all]) (1.0.2)\n",
            "Requirement already satisfied: tqdm>=4.41.0 in /usr/local/lib/python3.7/dist-packages (from nemo_toolkit[all]) (4.64.1)\n",
            "Requirement already satisfied: numba in /usr/local/lib/python3.7/dist-packages (from nemo_toolkit[all]) (0.56.2)\n",
            "Requirement already satisfied: wget in /usr/local/lib/python3.7/dist-packages (from nemo_toolkit[all]) (3.2)\n",
            "Requirement already satisfied: frozendict in /usr/local/lib/python3.7/dist-packages (from nemo_toolkit[all]) (2.3.4)\n",
            "Requirement already satisfied: unidecode in /usr/local/lib/python3.7/dist-packages (from nemo_toolkit[all]) (1.3.4)\n",
            "Requirement already satisfied: huggingface_hub in /usr/local/lib/python3.7/dist-packages (from nemo_toolkit[all]) (0.9.1)\n",
            "Requirement already satisfied: black==19.10b0 in /usr/local/lib/python3.7/dist-packages (from nemo_toolkit[all]) (19.10b0)\n",
            "Requirement already satisfied: isort[requirements]<5 in /usr/local/lib/python3.7/dist-packages (from nemo_toolkit[all]) (4.3.21)\n",
            "Requirement already satisfied: parameterized in /usr/local/lib/python3.7/dist-packages (from nemo_toolkit[all]) (0.8.1)\n",
            "Requirement already satisfied: pytest in /usr/local/lib/python3.7/dist-packages (from nemo_toolkit[all]) (3.6.4)\n",
            "Requirement already satisfied: pytest-runner in /usr/local/lib/python3.7/dist-packages (from nemo_toolkit[all]) (6.0.0)\n",
            "Requirement already satisfied: sphinx in /usr/local/lib/python3.7/dist-packages (from nemo_toolkit[all]) (5.1.1)\n",
            "Requirement already satisfied: sphinxcontrib-bibtex in /usr/local/lib/python3.7/dist-packages (from nemo_toolkit[all]) (2.5.0)\n",
            "Requirement already satisfied: wandb in /usr/local/lib/python3.7/dist-packages (from nemo_toolkit[all]) (0.13.3)\n",
            "Requirement already satisfied: inflect in /usr/local/lib/python3.7/dist-packages (from nemo_toolkit[all]) (2.1.0)\n",
            "Requirement already satisfied: regex in /usr/local/lib/python3.7/dist-packages (from nemo_toolkit[all]) (2022.6.2)\n",
            "Requirement already satisfied: transformers>=4.0.1 in /usr/local/lib/python3.7/dist-packages (from nemo_toolkit[all]) (4.22.1)\n",
            "Requirement already satisfied: pytorch-lightning<1.7.0,>=1.6.1 in /usr/local/lib/python3.7/dist-packages (from nemo_toolkit[all]) (1.6.5)\n",
            "Requirement already satisfied: torchmetrics>=0.4.1rc0 in /usr/local/lib/python3.7/dist-packages (from nemo_toolkit[all]) (0.10.0rc0)\n",
            "Requirement already satisfied: webdataset<=0.1.62,>=0.1.48 in /usr/local/lib/python3.7/dist-packages (from nemo_toolkit[all]) (0.1.62)\n",
            "Requirement already satisfied: omegaconf<2.2,>=2.1.2 in /usr/local/lib/python3.7/dist-packages (from nemo_toolkit[all]) (2.1.2)\n",
            "Requirement already satisfied: hydra-core<1.2,>=1.1.0 in /usr/local/lib/python3.7/dist-packages (from nemo_toolkit[all]) (1.1.2)\n",
            "Requirement already satisfied: pyyaml<6 in /usr/local/lib/python3.7/dist-packages (from nemo_toolkit[all]) (5.4.1)\n",
            "Requirement already satisfied: sentencepiece<1.0.0 in /usr/local/lib/python3.7/dist-packages (from nemo_toolkit[all]) (0.1.97)\n",
            "Requirement already satisfied: youtokentome>=1.0.5 in /usr/local/lib/python3.7/dist-packages (from nemo_toolkit[all]) (1.0.6)\n",
            "Requirement already satisfied: pandas in /usr/local/lib/python3.7/dist-packages (from nemo_toolkit[all]) (1.3.5)\n",
            "Requirement already satisfied: sacremoses>=0.0.43 in /usr/local/lib/python3.7/dist-packages (from nemo_toolkit[all]) (0.0.53)\n",
            "Requirement already satisfied: braceexpand in /usr/local/lib/python3.7/dist-packages (from nemo_toolkit[all]) (0.1.7)\n",
            "Requirement already satisfied: editdistance in /usr/local/lib/python3.7/dist-packages (from nemo_toolkit[all]) (0.5.3)\n",
            "Requirement already satisfied: librosa in /usr/local/lib/python3.7/dist-packages (from nemo_toolkit[all]) (0.8.1)\n",
            "Requirement already satisfied: marshmallow in /usr/local/lib/python3.7/dist-packages (from nemo_toolkit[all]) (3.17.1)\n",
            "Requirement already satisfied: packaging in /usr/local/lib/python3.7/dist-packages (from nemo_toolkit[all]) (21.3)\n",
            "Requirement already satisfied: soundfile in /usr/local/lib/python3.7/dist-packages (from nemo_toolkit[all]) (0.10.3.post1)\n",
            "Requirement already satisfied: sox in /usr/local/lib/python3.7/dist-packages (from nemo_toolkit[all]) (1.4.1)\n",
            "Requirement already satisfied: kaldi-python-io in /usr/local/lib/python3.7/dist-packages (from nemo_toolkit[all]) (1.2.2)\n",
            "Requirement already satisfied: kaldiio in /usr/local/lib/python3.7/dist-packages (from nemo_toolkit[all]) (2.17.2)\n",
            "Requirement already satisfied: scipy>=0.14 in /usr/local/lib/python3.7/dist-packages (from nemo_toolkit[all]) (1.7.3)\n",
            "Requirement already satisfied: g2p_en in /usr/local/lib/python3.7/dist-packages (from nemo_toolkit[all]) (2.1.0)\n",
            "Requirement already satisfied: pydub in /usr/local/lib/python3.7/dist-packages (from nemo_toolkit[all]) (0.25.1)\n",
            "Requirement already satisfied: pyannote.core in /usr/local/lib/python3.7/dist-packages (from nemo_toolkit[all]) (4.5)\n",
            "Requirement already satisfied: pyannote.metrics in /usr/local/lib/python3.7/dist-packages (from nemo_toolkit[all]) (3.2.1)\n",
            "Requirement already satisfied: ipywidgets in /usr/local/lib/python3.7/dist-packages (from nemo_toolkit[all]) (7.7.1)\n",
            "Requirement already satisfied: matplotlib in /usr/local/lib/python3.7/dist-packages (from nemo_toolkit[all]) (3.2.2)\n",
            "Requirement already satisfied: pillow in /usr/local/lib/python3.7/dist-packages (from nemo_toolkit[all]) (7.1.2)\n",
            "Requirement already satisfied: torchvision in /usr/local/lib/python3.7/dist-packages (from nemo_toolkit[all]) (0.13.1+cu113)\n",
            "Requirement already satisfied: boto3 in /usr/local/lib/python3.7/dist-packages (from nemo_toolkit[all]) (1.24.80)\n",
            "Requirement already satisfied: h5py in /usr/local/lib/python3.7/dist-packages (from nemo_toolkit[all]) (3.1.0)\n",
            "Collecting matplotlib>=3.3.2\n",
            "  Using cached matplotlib-3.5.3-cp37-cp37m-manylinux_2_5_x86_64.manylinux1_x86_64.whl (11.2 MB)\n",
            "Requirement already satisfied: rapidfuzz in /usr/local/lib/python3.7/dist-packages (from nemo_toolkit[all]) (2.10.0)\n",
            "Requirement already satisfied: gdown in /usr/local/lib/python3.7/dist-packages (from nemo_toolkit[all]) (4.4.0)\n",
            "Requirement already satisfied: sacrebleu[ja] in /usr/local/lib/python3.7/dist-packages (from nemo_toolkit[all]) (2.2.1)\n",
            "Requirement already satisfied: nltk>=3.6.5 in /usr/local/lib/python3.7/dist-packages (from nemo_toolkit[all]) (3.7)\n",
            "Requirement already satisfied: fasttext in /usr/local/lib/python3.7/dist-packages (from nemo_toolkit[all]) (0.9.2)\n",
            "Requirement already satisfied: opencc in /usr/local/lib/python3.7/dist-packages (from nemo_toolkit[all]) (1.1.4)\n",
            "Requirement already satisfied: pangu in /usr/local/lib/python3.7/dist-packages (from nemo_toolkit[all]) (4.0.6.1)\n",
            "Requirement already satisfied: jieba in /usr/local/lib/python3.7/dist-packages (from nemo_toolkit[all]) (0.42.1)\n",
            "Requirement already satisfied: ftfy in /usr/local/lib/python3.7/dist-packages (from nemo_toolkit[all]) (6.1.1)\n",
            "Requirement already satisfied: flask_restful in /usr/local/lib/python3.7/dist-packages (from nemo_toolkit[all]) (0.3.9)\n",
            "Requirement already satisfied: einops in /usr/local/lib/python3.7/dist-packages (from nemo_toolkit[all]) (0.4.1)\n",
            "Requirement already satisfied: ijson in /usr/local/lib/python3.7/dist-packages (from nemo_toolkit[all]) (3.1.4)\n",
            "Requirement already satisfied: faiss-cpu in /usr/local/lib/python3.7/dist-packages (from nemo_toolkit[all]) (1.7.2)\n",
            "Requirement already satisfied: sentence_transformers in /usr/local/lib/python3.7/dist-packages (from nemo_toolkit[all]) (2.2.2)\n",
            "Requirement already satisfied: pypinyin in /usr/local/lib/python3.7/dist-packages (from nemo_toolkit[all]) (0.47.1)\n",
            "Requirement already satisfied: attrdict in /usr/local/lib/python3.7/dist-packages (from nemo_toolkit[all]) (2.0.1)\n",
            "Requirement already satisfied: pystoi in /usr/local/lib/python3.7/dist-packages (from nemo_toolkit[all]) (0.3.3)\n",
            "Requirement already satisfied: pesq in /usr/local/lib/python3.7/dist-packages (from nemo_toolkit[all]) (0.0.4)\n",
            "Requirement already satisfied: click>=6.5 in /usr/local/lib/python3.7/dist-packages (from black==19.10b0->nemo_toolkit[all]) (7.1.2)\n",
            "Requirement already satisfied: appdirs in /usr/local/lib/python3.7/dist-packages (from black==19.10b0->nemo_toolkit[all]) (1.4.4)\n",
            "Requirement already satisfied: attrs>=18.1.0 in /usr/local/lib/python3.7/dist-packages (from black==19.10b0->nemo_toolkit[all]) (22.1.0)\n",
            "Requirement already satisfied: toml>=0.9.4 in /usr/local/lib/python3.7/dist-packages (from black==19.10b0->nemo_toolkit[all]) (0.10.2)\n",
            "Requirement already satisfied: pathspec<1,>=0.6 in /usr/local/lib/python3.7/dist-packages (from black==19.10b0->nemo_toolkit[all]) (0.10.1)\n",
            "Requirement already satisfied: typed-ast>=1.4.0 in /usr/local/lib/python3.7/dist-packages (from black==19.10b0->nemo_toolkit[all]) (1.5.4)\n",
            "Requirement already satisfied: importlib-resources<5.3 in /usr/local/lib/python3.7/dist-packages (from hydra-core<1.2,>=1.1.0->nemo_toolkit[all]) (5.2.3)\n",
            "Requirement already satisfied: antlr4-python3-runtime==4.8 in /usr/local/lib/python3.7/dist-packages (from hydra-core<1.2,>=1.1.0->nemo_toolkit[all]) (4.8)\n",
            "Requirement already satisfied: zipp>=3.1.0 in /usr/local/lib/python3.7/dist-packages (from importlib-resources<5.3->hydra-core<1.2,>=1.1.0->nemo_toolkit[all]) (3.8.1)\n",
            "Requirement already satisfied: pipreqs in /usr/local/lib/python3.7/dist-packages (from isort[requirements]<5->nemo_toolkit[all]) (0.4.11)\n",
            "Requirement already satisfied: pip-api in /usr/local/lib/python3.7/dist-packages (from isort[requirements]<5->nemo_toolkit[all]) (0.0.30)\n",
            "Requirement already satisfied: typing-extensions>=3.6.2.1 in /usr/local/lib/python3.7/dist-packages (from onnx>=1.7.0->nemo_toolkit[all]) (4.1.1)\n",
            "Requirement already satisfied: protobuf<=3.20.1,>=3.12.2 in /usr/local/lib/python3.7/dist-packages (from onnx>=1.7.0->nemo_toolkit[all]) (3.17.3)\n",
            "Requirement already satisfied: six>=1.9 in /usr/local/lib/python3.7/dist-packages (from protobuf<=3.20.1,>=3.12.2->onnx>=1.7.0->nemo_toolkit[all]) (1.15.0)\n",
            "Requirement already satisfied: tensorboard>=2.2.0 in /usr/local/lib/python3.7/dist-packages (from pytorch-lightning<1.7.0,>=1.6.1->nemo_toolkit[all]) (2.8.0)\n",
            "Requirement already satisfied: pyDeprecate>=0.3.1 in /usr/local/lib/python3.7/dist-packages (from pytorch-lightning<1.7.0,>=1.6.1->nemo_toolkit[all]) (0.3.2)\n",
            "Requirement already satisfied: fsspec[http]!=2021.06.0,>=2021.05.0 in /usr/local/lib/python3.7/dist-packages (from pytorch-lightning<1.7.0,>=1.6.1->nemo_toolkit[all]) (2022.8.2)\n",
            "Requirement already satisfied: requests in /usr/local/lib/python3.7/dist-packages (from fsspec[http]!=2021.06.0,>=2021.05.0->pytorch-lightning<1.7.0,>=1.6.1->nemo_toolkit[all]) (2.23.0)\n",
            "Requirement already satisfied: aiohttp!=4.0.0a0,!=4.0.0a1 in /usr/local/lib/python3.7/dist-packages (from fsspec[http]!=2021.06.0,>=2021.05.0->pytorch-lightning<1.7.0,>=1.6.1->nemo_toolkit[all]) (3.8.1)\n",
            "Requirement already satisfied: frozenlist>=1.1.1 in /usr/local/lib/python3.7/dist-packages (from aiohttp!=4.0.0a0,!=4.0.0a1->fsspec[http]!=2021.06.0,>=2021.05.0->pytorch-lightning<1.7.0,>=1.6.1->nemo_toolkit[all]) (1.3.1)\n",
            "Requirement already satisfied: charset-normalizer<3.0,>=2.0 in /usr/local/lib/python3.7/dist-packages (from aiohttp!=4.0.0a0,!=4.0.0a1->fsspec[http]!=2021.06.0,>=2021.05.0->pytorch-lightning<1.7.0,>=1.6.1->nemo_toolkit[all]) (2.1.1)\n",
            "Requirement already satisfied: aiosignal>=1.1.2 in /usr/local/lib/python3.7/dist-packages (from aiohttp!=4.0.0a0,!=4.0.0a1->fsspec[http]!=2021.06.0,>=2021.05.0->pytorch-lightning<1.7.0,>=1.6.1->nemo_toolkit[all]) (1.2.0)\n",
            "Requirement already satisfied: async-timeout<5.0,>=4.0.0a3 in /usr/local/lib/python3.7/dist-packages (from aiohttp!=4.0.0a0,!=4.0.0a1->fsspec[http]!=2021.06.0,>=2021.05.0->pytorch-lightning<1.7.0,>=1.6.1->nemo_toolkit[all]) (4.0.2)\n",
            "Requirement already satisfied: multidict<7.0,>=4.5 in /usr/local/lib/python3.7/dist-packages (from aiohttp!=4.0.0a0,!=4.0.0a1->fsspec[http]!=2021.06.0,>=2021.05.0->pytorch-lightning<1.7.0,>=1.6.1->nemo_toolkit[all]) (6.0.2)\n",
            "Requirement already satisfied: asynctest==0.13.0 in /usr/local/lib/python3.7/dist-packages (from aiohttp!=4.0.0a0,!=4.0.0a1->fsspec[http]!=2021.06.0,>=2021.05.0->pytorch-lightning<1.7.0,>=1.6.1->nemo_toolkit[all]) (0.13.0)\n",
            "Requirement already satisfied: yarl<2.0,>=1.0 in /usr/local/lib/python3.7/dist-packages (from aiohttp!=4.0.0a0,!=4.0.0a1->fsspec[http]!=2021.06.0,>=2021.05.0->pytorch-lightning<1.7.0,>=1.6.1->nemo_toolkit[all]) (1.8.1)\n",
            "Requirement already satisfied: pyparsing!=3.0.5,>=2.0.2 in /usr/local/lib/python3.7/dist-packages (from packaging->nemo_toolkit[all]) (3.0.9)\n",
            "Requirement already satisfied: joblib in /usr/local/lib/python3.7/dist-packages (from sacremoses>=0.0.43->nemo_toolkit[all]) (1.1.0)\n",
            "Requirement already satisfied: grpcio>=1.24.3 in /usr/local/lib/python3.7/dist-packages (from tensorboard>=2.2.0->pytorch-lightning<1.7.0,>=1.6.1->nemo_toolkit[all]) (1.48.1)\n",
            "Requirement already satisfied: tensorboard-plugin-wit>=1.6.0 in /usr/local/lib/python3.7/dist-packages (from tensorboard>=2.2.0->pytorch-lightning<1.7.0,>=1.6.1->nemo_toolkit[all]) (1.8.1)\n",
            "Requirement already satisfied: absl-py>=0.4 in /usr/local/lib/python3.7/dist-packages (from tensorboard>=2.2.0->pytorch-lightning<1.7.0,>=1.6.1->nemo_toolkit[all]) (1.2.0)\n",
            "Requirement already satisfied: markdown>=2.6.8 in /usr/local/lib/python3.7/dist-packages (from tensorboard>=2.2.0->pytorch-lightning<1.7.0,>=1.6.1->nemo_toolkit[all]) (3.4.1)\n",
            "Requirement already satisfied: werkzeug>=0.11.15 in /usr/local/lib/python3.7/dist-packages (from tensorboard>=2.2.0->pytorch-lightning<1.7.0,>=1.6.1->nemo_toolkit[all]) (1.0.1)\n",
            "Requirement already satisfied: google-auth-oauthlib<0.5,>=0.4.1 in /usr/local/lib/python3.7/dist-packages (from tensorboard>=2.2.0->pytorch-lightning<1.7.0,>=1.6.1->nemo_toolkit[all]) (0.4.6)\n",
            "Requirement already satisfied: google-auth<3,>=1.6.3 in /usr/local/lib/python3.7/dist-packages (from tensorboard>=2.2.0->pytorch-lightning<1.7.0,>=1.6.1->nemo_toolkit[all]) (1.35.0)\n",
            "Requirement already satisfied: tensorboard-data-server<0.7.0,>=0.6.0 in /usr/local/lib/python3.7/dist-packages (from tensorboard>=2.2.0->pytorch-lightning<1.7.0,>=1.6.1->nemo_toolkit[all]) (0.6.1)\n",
            "Requirement already satisfied: wheel>=0.26 in /usr/local/lib/python3.7/dist-packages (from tensorboard>=2.2.0->pytorch-lightning<1.7.0,>=1.6.1->nemo_toolkit[all]) (0.37.1)\n",
            "Requirement already satisfied: cachetools<5.0,>=2.0.0 in /usr/local/lib/python3.7/dist-packages (from google-auth<3,>=1.6.3->tensorboard>=2.2.0->pytorch-lightning<1.7.0,>=1.6.1->nemo_toolkit[all]) (4.2.4)\n",
            "Requirement already satisfied: rsa<5,>=3.1.4 in /usr/local/lib/python3.7/dist-packages (from google-auth<3,>=1.6.3->tensorboard>=2.2.0->pytorch-lightning<1.7.0,>=1.6.1->nemo_toolkit[all]) (4.9)\n",
            "Requirement already satisfied: pyasn1-modules>=0.2.1 in /usr/local/lib/python3.7/dist-packages (from google-auth<3,>=1.6.3->tensorboard>=2.2.0->pytorch-lightning<1.7.0,>=1.6.1->nemo_toolkit[all]) (0.2.8)\n",
            "Requirement already satisfied: requests-oauthlib>=0.7.0 in /usr/local/lib/python3.7/dist-packages (from google-auth-oauthlib<0.5,>=0.4.1->tensorboard>=2.2.0->pytorch-lightning<1.7.0,>=1.6.1->nemo_toolkit[all]) (1.3.1)\n",
            "Requirement already satisfied: importlib-metadata>=4.4 in /usr/local/lib/python3.7/dist-packages (from markdown>=2.6.8->tensorboard>=2.2.0->pytorch-lightning<1.7.0,>=1.6.1->nemo_toolkit[all]) (4.12.0)\n",
            "Requirement already satisfied: pyasn1<0.5.0,>=0.4.6 in /usr/local/lib/python3.7/dist-packages (from pyasn1-modules>=0.2.1->google-auth<3,>=1.6.3->tensorboard>=2.2.0->pytorch-lightning<1.7.0,>=1.6.1->nemo_toolkit[all]) (0.4.8)\n",
            "Requirement already satisfied: urllib3!=1.25.0,!=1.25.1,<1.26,>=1.21.1 in /usr/local/lib/python3.7/dist-packages (from requests->fsspec[http]!=2021.06.0,>=2021.05.0->pytorch-lightning<1.7.0,>=1.6.1->nemo_toolkit[all]) (1.25.11)\n",
            "Requirement already satisfied: certifi>=2017.4.17 in /usr/local/lib/python3.7/dist-packages (from requests->fsspec[http]!=2021.06.0,>=2021.05.0->pytorch-lightning<1.7.0,>=1.6.1->nemo_toolkit[all]) (2022.6.15)\n",
            "Requirement already satisfied: chardet<4,>=3.0.2 in /usr/local/lib/python3.7/dist-packages (from requests->fsspec[http]!=2021.06.0,>=2021.05.0->pytorch-lightning<1.7.0,>=1.6.1->nemo_toolkit[all]) (3.0.4)\n",
            "Requirement already satisfied: idna<3,>=2.5 in /usr/local/lib/python3.7/dist-packages (from requests->fsspec[http]!=2021.06.0,>=2021.05.0->pytorch-lightning<1.7.0,>=1.6.1->nemo_toolkit[all]) (2.10)\n",
            "Requirement already satisfied: oauthlib>=3.0.0 in /usr/local/lib/python3.7/dist-packages (from requests-oauthlib>=0.7.0->google-auth-oauthlib<0.5,>=0.4.1->tensorboard>=2.2.0->pytorch-lightning<1.7.0,>=1.6.1->nemo_toolkit[all]) (3.2.0)\n",
            "Requirement already satisfied: filelock in /usr/local/lib/python3.7/dist-packages (from transformers>=4.0.1->nemo_toolkit[all]) (3.8.0)\n",
            "Requirement already satisfied: tokenizers!=0.11.3,<0.13,>=0.11.1 in /usr/local/lib/python3.7/dist-packages (from transformers>=4.0.1->nemo_toolkit[all]) (0.12.1)\n",
            "Requirement already satisfied: s3transfer<0.7.0,>=0.6.0 in /usr/local/lib/python3.7/dist-packages (from boto3->nemo_toolkit[all]) (0.6.0)\n",
            "Requirement already satisfied: botocore<1.28.0,>=1.27.80 in /usr/local/lib/python3.7/dist-packages (from boto3->nemo_toolkit[all]) (1.27.80)\n",
            "Requirement already satisfied: jmespath<2.0.0,>=0.7.1 in /usr/local/lib/python3.7/dist-packages (from boto3->nemo_toolkit[all]) (1.0.1)\n",
            "Requirement already satisfied: pybind11>=2.2 in /usr/local/lib/python3.7/dist-packages (from fasttext->nemo_toolkit[all]) (2.10.0)\n",
            "Requirement already satisfied: pytz in /usr/local/lib/python3.7/dist-packages (from flask_restful->nemo_toolkit[all]) (2022.2.1)\n",
            "Requirement already satisfied: aniso8601>=0.82 in /usr/local/lib/python3.7/dist-packages (from flask_restful->nemo_toolkit[all]) (9.0.1)\n",
            "Requirement already satisfied: Flask>=0.8 in /usr/local/lib/python3.7/dist-packages (from flask_restful->nemo_toolkit[all]) (1.1.4)\n",
            "Requirement already satisfied: Jinja2<3.0,>=2.10.1 in /usr/local/lib/python3.7/dist-packages (from Flask>=0.8->flask_restful->nemo_toolkit[all]) (2.11.3)\n",
            "Requirement already satisfied: itsdangerous<2.0,>=0.24 in /usr/local/lib/python3.7/dist-packages (from Flask>=0.8->flask_restful->nemo_toolkit[all]) (1.1.0)\n",
            "Requirement already satisfied: MarkupSafe>=0.23 in /usr/local/lib/python3.7/dist-packages (from Jinja2<3.0,>=2.10.1->Flask>=0.8->flask_restful->nemo_toolkit[all]) (2.0.1)\n",
            "Requirement already satisfied: wcwidth>=0.2.5 in /usr/local/lib/python3.7/dist-packages (from ftfy->nemo_toolkit[all]) (0.2.5)\n",
            "Requirement already satisfied: distance>=0.1.3 in /usr/local/lib/python3.7/dist-packages (from g2p_en->nemo_toolkit[all]) (0.1.3)\n",
            "Requirement already satisfied: beautifulsoup4 in /usr/local/lib/python3.7/dist-packages (from gdown->nemo_toolkit[all]) (4.6.3)\n",
            "Requirement already satisfied: cached-property in /usr/local/lib/python3.7/dist-packages (from h5py->nemo_toolkit[all]) (1.5.2)\n",
            "Requirement already satisfied: jupyterlab-widgets>=1.0.0 in /usr/local/lib/python3.7/dist-packages (from ipywidgets->nemo_toolkit[all]) (3.0.3)\n",
            "Requirement already satisfied: ipykernel>=4.5.1 in /usr/local/lib/python3.7/dist-packages (from ipywidgets->nemo_toolkit[all]) (5.3.4)\n",
            "Requirement already satisfied: widgetsnbextension~=3.6.0 in /usr/local/lib/python3.7/dist-packages (from ipywidgets->nemo_toolkit[all]) (3.6.1)\n",
            "Requirement already satisfied: ipython>=4.0.0 in /usr/local/lib/python3.7/dist-packages (from ipywidgets->nemo_toolkit[all]) (7.9.0)\n",
            "Requirement already satisfied: ipython-genutils~=0.2.0 in /usr/local/lib/python3.7/dist-packages (from ipywidgets->nemo_toolkit[all]) (0.2.0)\n",
            "Requirement already satisfied: traitlets>=4.3.1 in /usr/local/lib/python3.7/dist-packages (from ipywidgets->nemo_toolkit[all]) (5.1.1)\n",
            "Requirement already satisfied: tornado>=4.2 in /usr/local/lib/python3.7/dist-packages (from ipykernel>=4.5.1->ipywidgets->nemo_toolkit[all]) (5.1.1)\n",
            "Requirement already satisfied: jupyter-client in /usr/local/lib/python3.7/dist-packages (from ipykernel>=4.5.1->ipywidgets->nemo_toolkit[all]) (6.1.12)\n",
            "Requirement already satisfied: pexpect in /usr/local/lib/python3.7/dist-packages (from ipython>=4.0.0->ipywidgets->nemo_toolkit[all]) (4.8.0)\n",
            "Requirement already satisfied: pygments in /usr/local/lib/python3.7/dist-packages (from ipython>=4.0.0->ipywidgets->nemo_toolkit[all]) (2.6.1)\n",
            "Requirement already satisfied: pickleshare in /usr/local/lib/python3.7/dist-packages (from ipython>=4.0.0->ipywidgets->nemo_toolkit[all]) (0.7.5)\n",
            "Requirement already satisfied: backcall in /usr/local/lib/python3.7/dist-packages (from ipython>=4.0.0->ipywidgets->nemo_toolkit[all]) (0.2.0)\n",
            "Requirement already satisfied: decorator in /usr/local/lib/python3.7/dist-packages (from ipython>=4.0.0->ipywidgets->nemo_toolkit[all]) (4.4.2)\n",
            "Requirement already satisfied: prompt-toolkit<2.1.0,>=2.0.0 in /usr/local/lib/python3.7/dist-packages (from ipython>=4.0.0->ipywidgets->nemo_toolkit[all]) (2.0.10)\n",
            "Requirement already satisfied: jedi>=0.10 in /usr/local/lib/python3.7/dist-packages (from ipython>=4.0.0->ipywidgets->nemo_toolkit[all]) (0.18.1)\n",
            "Requirement already satisfied: parso<0.9.0,>=0.8.0 in /usr/local/lib/python3.7/dist-packages (from jedi>=0.10->ipython>=4.0.0->ipywidgets->nemo_toolkit[all]) (0.8.3)\n",
            "Requirement already satisfied: notebook>=4.4.1 in /usr/local/lib/python3.7/dist-packages (from widgetsnbextension~=3.6.0->ipywidgets->nemo_toolkit[all]) (5.3.1)\n",
            "Requirement already satisfied: nbformat in /usr/local/lib/python3.7/dist-packages (from notebook>=4.4.1->widgetsnbextension~=3.6.0->ipywidgets->nemo_toolkit[all]) (5.4.0)\n",
            "Requirement already satisfied: nbconvert in /usr/local/lib/python3.7/dist-packages (from notebook>=4.4.1->widgetsnbextension~=3.6.0->ipywidgets->nemo_toolkit[all]) (5.6.1)\n",
            "Requirement already satisfied: jupyter-core>=4.4.0 in /usr/local/lib/python3.7/dist-packages (from notebook>=4.4.1->widgetsnbextension~=3.6.0->ipywidgets->nemo_toolkit[all]) (4.11.1)\n",
            "Requirement already satisfied: Send2Trash in /usr/local/lib/python3.7/dist-packages (from notebook>=4.4.1->widgetsnbextension~=3.6.0->ipywidgets->nemo_toolkit[all]) (1.8.0)\n",
            "Requirement already satisfied: terminado>=0.8.1 in /usr/local/lib/python3.7/dist-packages (from notebook>=4.4.1->widgetsnbextension~=3.6.0->ipywidgets->nemo_toolkit[all]) (0.13.3)\n",
            "Requirement already satisfied: pyzmq>=13 in /usr/local/lib/python3.7/dist-packages (from jupyter-client->ipykernel>=4.5.1->ipywidgets->nemo_toolkit[all]) (23.2.1)\n",
            "Requirement already satisfied: ptyprocess in /usr/local/lib/python3.7/dist-packages (from terminado>=0.8.1->notebook>=4.4.1->widgetsnbextension~=3.6.0->ipywidgets->nemo_toolkit[all]) (0.7.0)\n",
            "Requirement already satisfied: pooch>=1.0 in /usr/local/lib/python3.7/dist-packages (from librosa->nemo_toolkit[all]) (1.6.0)\n",
            "Requirement already satisfied: resampy>=0.2.2 in /usr/local/lib/python3.7/dist-packages (from librosa->nemo_toolkit[all]) (0.4.0)\n",
            "Requirement already satisfied: audioread>=2.0.0 in /usr/local/lib/python3.7/dist-packages (from librosa->nemo_toolkit[all]) (3.0.0)\n",
            "Requirement already satisfied: llvmlite<0.40,>=0.39.0dev0 in /usr/local/lib/python3.7/dist-packages (from numba->nemo_toolkit[all]) (0.39.1)\n",
            "Requirement already satisfied: threadpoolctl>=2.0.0 in /usr/local/lib/python3.7/dist-packages (from scikit-learn->nemo_toolkit[all]) (3.1.0)\n",
            "Requirement already satisfied: cffi>=1.0 in /usr/local/lib/python3.7/dist-packages (from soundfile->nemo_toolkit[all]) (1.15.1)\n",
            "Requirement already satisfied: pycparser in /usr/local/lib/python3.7/dist-packages (from cffi>=1.0->soundfile->nemo_toolkit[all]) (2.21)\n",
            "Requirement already satisfied: cycler>=0.10 in /usr/local/lib/python3.7/dist-packages (from matplotlib->nemo_toolkit[all]) (0.11.0)\n",
            "Requirement already satisfied: kiwisolver>=1.0.1 in /usr/local/lib/python3.7/dist-packages (from matplotlib->nemo_toolkit[all]) (1.4.4)\n",
            "Requirement already satisfied: defusedxml in /usr/local/lib/python3.7/dist-packages (from nbconvert->notebook>=4.4.1->widgetsnbextension~=3.6.0->ipywidgets->nemo_toolkit[all]) (0.7.1)\n",
            "Requirement already satisfied: bleach in /usr/local/lib/python3.7/dist-packages (from nbconvert->notebook>=4.4.1->widgetsnbextension~=3.6.0->ipywidgets->nemo_toolkit[all]) (5.0.1)\n",
            "Requirement already satisfied: entrypoints>=0.2.2 in /usr/local/lib/python3.7/dist-packages (from nbconvert->notebook>=4.4.1->widgetsnbextension~=3.6.0->ipywidgets->nemo_toolkit[all]) (0.4)\n",
            "Requirement already satisfied: mistune<2,>=0.8.1 in /usr/local/lib/python3.7/dist-packages (from nbconvert->notebook>=4.4.1->widgetsnbextension~=3.6.0->ipywidgets->nemo_toolkit[all]) (0.8.4)\n",
            "Requirement already satisfied: testpath in /usr/local/lib/python3.7/dist-packages (from nbconvert->notebook>=4.4.1->widgetsnbextension~=3.6.0->ipywidgets->nemo_toolkit[all]) (0.6.0)\n",
            "Requirement already satisfied: pandocfilters>=1.4.1 in /usr/local/lib/python3.7/dist-packages (from nbconvert->notebook>=4.4.1->widgetsnbextension~=3.6.0->ipywidgets->nemo_toolkit[all]) (1.5.0)\n",
            "Requirement already satisfied: jsonschema>=2.6 in /usr/local/lib/python3.7/dist-packages (from nbformat->notebook>=4.4.1->widgetsnbextension~=3.6.0->ipywidgets->nemo_toolkit[all]) (4.3.3)\n",
            "Requirement already satisfied: fastjsonschema in /usr/local/lib/python3.7/dist-packages (from nbformat->notebook>=4.4.1->widgetsnbextension~=3.6.0->ipywidgets->nemo_toolkit[all]) (2.16.1)\n",
            "Requirement already satisfied: pyrsistent!=0.17.0,!=0.17.1,!=0.17.2,>=0.14.0 in /usr/local/lib/python3.7/dist-packages (from jsonschema>=2.6->nbformat->notebook>=4.4.1->widgetsnbextension~=3.6.0->ipywidgets->nemo_toolkit[all]) (0.18.1)\n",
            "Requirement already satisfied: webencodings in /usr/local/lib/python3.7/dist-packages (from bleach->nbconvert->notebook>=4.4.1->widgetsnbextension~=3.6.0->ipywidgets->nemo_toolkit[all]) (0.5.1)\n",
            "Requirement already satisfied: pip in /usr/local/lib/python3.7/dist-packages (from pip-api->isort[requirements]<5->nemo_toolkit[all]) (21.1.3)\n",
            "Requirement already satisfied: yarg in /usr/local/lib/python3.7/dist-packages (from pipreqs->isort[requirements]<5->nemo_toolkit[all]) (0.1.9)\n",
            "Requirement already satisfied: docopt in /usr/local/lib/python3.7/dist-packages (from pipreqs->isort[requirements]<5->nemo_toolkit[all]) (0.6.2)\n",
            "Requirement already satisfied: sortedcontainers>=2.0.4 in /usr/local/lib/python3.7/dist-packages (from pyannote.core->nemo_toolkit[all]) (2.4.0)\n",
            "Requirement already satisfied: simplejson>=3.8.1 in /usr/local/lib/python3.7/dist-packages (from pyannote.core->nemo_toolkit[all]) (3.17.6)\n",
            "Requirement already satisfied: pyannote.database>=4.0.1 in /usr/local/lib/python3.7/dist-packages (from pyannote.metrics->nemo_toolkit[all]) (4.1.3)\n",
            "Requirement already satisfied: sympy>=1.1 in /usr/local/lib/python3.7/dist-packages (from pyannote.metrics->nemo_toolkit[all]) (1.7.1)\n",
            "Requirement already satisfied: tabulate>=0.7.7 in /usr/local/lib/python3.7/dist-packages (from pyannote.metrics->nemo_toolkit[all]) (0.8.10)\n",
            "Requirement already satisfied: typer[all]>=0.2.1 in /usr/local/lib/python3.7/dist-packages (from pyannote.database>=4.0.1->pyannote.metrics->nemo_toolkit[all]) (0.4.2)\n",
            "Requirement already satisfied: mpmath>=0.19 in /usr/local/lib/python3.7/dist-packages (from sympy>=1.1->pyannote.metrics->nemo_toolkit[all]) (1.2.1)\n",
            "Requirement already satisfied: colorama<0.5.0,>=0.4.3 in /usr/local/lib/python3.7/dist-packages (from typer[all]>=0.2.1->pyannote.database>=4.0.1->pyannote.metrics->nemo_toolkit[all]) (0.4.5)\n",
            "Requirement already satisfied: shellingham<2.0.0,>=1.3.0 in /usr/local/lib/python3.7/dist-packages (from typer[all]>=0.2.1->pyannote.database>=4.0.1->pyannote.metrics->nemo_toolkit[all]) (1.5.0)\n",
            "Requirement already satisfied: more-itertools>=4.0.0 in /usr/local/lib/python3.7/dist-packages (from pytest->nemo_toolkit[all]) (8.14.0)\n",
            "Requirement already satisfied: atomicwrites>=1.0 in /usr/local/lib/python3.7/dist-packages (from pytest->nemo_toolkit[all]) (1.4.1)\n",
            "Requirement already satisfied: pluggy<0.8,>=0.5 in /usr/local/lib/python3.7/dist-packages (from pytest->nemo_toolkit[all]) (0.7.1)\n",
            "Requirement already satisfied: py>=1.5.0 in /usr/local/lib/python3.7/dist-packages (from pytest->nemo_toolkit[all]) (1.11.0)\n",
            "Requirement already satisfied: jarowinkler<2.0.0,>=1.2.0 in /usr/local/lib/python3.7/dist-packages (from rapidfuzz->nemo_toolkit[all]) (1.2.2)\n",
            "Requirement already satisfied: PySocks!=1.5.7,>=1.5.6 in /usr/local/lib/python3.7/dist-packages (from requests->fsspec[http]!=2021.06.0,>=2021.05.0->pytorch-lightning<1.7.0,>=1.6.1->nemo_toolkit[all]) (1.7.1)\n",
            "Requirement already satisfied: ruamel.yaml.clib>=0.2.6 in /usr/local/lib/python3.7/dist-packages (from ruamel.yaml->nemo_toolkit[all]) (0.2.6)\n",
            "Requirement already satisfied: portalocker in /usr/local/lib/python3.7/dist-packages (from sacrebleu[ja]->nemo_toolkit[all]) (2.5.1)\n",
            "Requirement already satisfied: lxml in /usr/local/lib/python3.7/dist-packages (from sacrebleu[ja]->nemo_toolkit[all]) (4.9.1)\n",
            "Requirement already satisfied: ipadic<2.0,>=1.0 in /usr/local/lib/python3.7/dist-packages (from sacrebleu[ja]->nemo_toolkit[all]) (1.0.0)\n",
            "Requirement already satisfied: mecab-python3==1.0.5 in /usr/local/lib/python3.7/dist-packages (from sacrebleu[ja]->nemo_toolkit[all]) (1.0.5)\n",
            "Requirement already satisfied: sphinxcontrib-serializinghtml>=1.1.5 in /usr/local/lib/python3.7/dist-packages (from sphinx->nemo_toolkit[all]) (1.1.5)\n",
            "Requirement already satisfied: snowballstemmer>=1.1 in /usr/local/lib/python3.7/dist-packages (from sphinx->nemo_toolkit[all]) (2.2.0)\n",
            "Requirement already satisfied: alabaster<0.8,>=0.7 in /usr/local/lib/python3.7/dist-packages (from sphinx->nemo_toolkit[all]) (0.7.12)\n",
            "Requirement already satisfied: sphinxcontrib-applehelp in /usr/local/lib/python3.7/dist-packages (from sphinx->nemo_toolkit[all]) (1.0.2)\n",
            "Requirement already satisfied: sphinxcontrib-qthelp in /usr/local/lib/python3.7/dist-packages (from sphinx->nemo_toolkit[all]) (1.0.3)\n",
            "Requirement already satisfied: babel>=1.3 in /usr/local/lib/python3.7/dist-packages (from sphinx->nemo_toolkit[all]) (2.10.3)\n",
            "Requirement already satisfied: imagesize in /usr/local/lib/python3.7/dist-packages (from sphinx->nemo_toolkit[all]) (1.4.1)\n",
            "Requirement already satisfied: sphinxcontrib-htmlhelp>=2.0.0 in /usr/local/lib/python3.7/dist-packages (from sphinx->nemo_toolkit[all]) (2.0.0)\n",
            "Requirement already satisfied: sphinxcontrib-jsmath in /usr/local/lib/python3.7/dist-packages (from sphinx->nemo_toolkit[all]) (1.0.1)\n",
            "Requirement already satisfied: docutils<0.20,>=0.14 in /usr/local/lib/python3.7/dist-packages (from sphinx->nemo_toolkit[all]) (0.17.1)\n",
            "Requirement already satisfied: sphinxcontrib-devhelp in /usr/local/lib/python3.7/dist-packages (from sphinx->nemo_toolkit[all]) (1.0.2)\n",
            "Requirement already satisfied: pybtex>=0.24 in /usr/local/lib/python3.7/dist-packages (from sphinxcontrib-bibtex->nemo_toolkit[all]) (0.24.0)\n",
            "Requirement already satisfied: pybtex-docutils>=1.0.0 in /usr/local/lib/python3.7/dist-packages (from sphinxcontrib-bibtex->nemo_toolkit[all]) (1.0.2)\n",
            "Requirement already satisfied: latexcodec>=1.0.4 in /usr/local/lib/python3.7/dist-packages (from pybtex>=0.24->sphinxcontrib-bibtex->nemo_toolkit[all]) (2.0.1)\n",
            "Requirement already satisfied: promise<3,>=2.0 in /usr/local/lib/python3.7/dist-packages (from wandb->nemo_toolkit[all]) (2.3)\n",
            "Requirement already satisfied: pathtools in /usr/local/lib/python3.7/dist-packages (from wandb->nemo_toolkit[all]) (0.1.2)\n",
            "Requirement already satisfied: setproctitle in /usr/local/lib/python3.7/dist-packages (from wandb->nemo_toolkit[all]) (1.3.2)\n",
            "Requirement already satisfied: psutil>=5.0.0 in /usr/local/lib/python3.7/dist-packages (from wandb->nemo_toolkit[all]) (5.4.8)\n",
            "Requirement already satisfied: GitPython>=1.0.0 in /usr/local/lib/python3.7/dist-packages (from wandb->nemo_toolkit[all]) (3.1.27)\n",
            "Requirement already satisfied: sentry-sdk>=1.0.0 in /usr/local/lib/python3.7/dist-packages (from wandb->nemo_toolkit[all]) (1.9.0)\n",
            "Requirement already satisfied: docker-pycreds>=0.4.0 in /usr/local/lib/python3.7/dist-packages (from wandb->nemo_toolkit[all]) (0.4.0)\n",
            "Requirement already satisfied: shortuuid>=0.5.0 in /usr/local/lib/python3.7/dist-packages (from wandb->nemo_toolkit[all]) (1.0.9)\n",
            "Requirement already satisfied: gitdb<5,>=4.0.1 in /usr/local/lib/python3.7/dist-packages (from GitPython>=1.0.0->wandb->nemo_toolkit[all]) (4.0.9)\n",
            "Requirement already satisfied: smmap<6,>=3.0.1 in /usr/local/lib/python3.7/dist-packages (from gitdb<5,>=4.0.1->GitPython>=1.0.0->wandb->nemo_toolkit[all]) (5.0.0)\n",
            "--2022-09-25 17:57:36--  https://raw.githubusercontent.com/NVIDIA/NeMo/main/nemo_text_processing/install_pynini.sh\n",
            "Resolving raw.githubusercontent.com (raw.githubusercontent.com)... 185.199.108.133, 185.199.109.133, 185.199.110.133, ...\n",
            "Connecting to raw.githubusercontent.com (raw.githubusercontent.com)|185.199.108.133|:443... connected.\n",
            "HTTP request sent, awaiting response... 200 OK\n",
            "Length: 130 [text/plain]\n",
            "Saving to: ‘install_pynini.sh.1’\n",
            "\n",
            "install_pynini.sh.1 100%[===================>]     130  --.-KB/s    in 0s      \n",
            "\n",
            "2022-09-25 17:57:37 (4.70 MB/s) - ‘install_pynini.sh.1’ saved [130/130]\n",
            "\n",
            "Looking in indexes: https://pypi.org/simple, https://us-python.pkg.dev/colab-wheels/public/simple/\n",
            "Requirement already satisfied: pynini==2.1.5 in /usr/local/lib/python3.7/dist-packages (2.1.5)\n",
            "Requirement already satisfied: Cython>=0.29 in /usr/local/lib/python3.7/dist-packages (from pynini==2.1.5) (0.29.32)\n"
          ]
        }
      ],
      "source": [
        "\"\"\"\n",
        "You can either run this notebook locally (if you have all the dependencies and a GPU) or on Google Colab.\n",
        "Instructions for setting up Colab are as follows:\n",
        "1. Open a new Python 3 notebook.\n",
        "2. Import this notebook from GitHub (File -> Upload Notebook -> \"GITHUB\" tab -> copy/paste GitHub URL)\n",
        "3. Connect to an instance with a GPU (Runtime -> Change runtime type -> select \"GPU\" for hardware accelerator)\n",
        "4. Run this cell to set up dependencies.\n",
        "\"\"\"\n",
        "BRANCH = 'r1.11.0'\n",
        "# # If you're using Google Colab and not running locally, uncomment and run this cell.\n",
        "!apt-get install sox libsndfile1 ffmpeg\n",
        "!pip install wget unidecode\n",
        "!python -m pip install git+https://github.com/NVIDIA/NeMo.git@$BRANCH#egg=nemo_toolkit[all]\n",
        "!wget https://raw.githubusercontent.com/NVIDIA/NeMo/main/nemo_text_processing/install_pynini.sh\n",
        "!bash install_pynini.sh"
      ]
    },
    {
      "cell_type": "markdown",
      "metadata": {
        "id": "Fx5A75r7kVd3"
      },
      "source": [
        "## Models\n",
        "\n",
        "First we pick the models that we want to use. Currently supported models are:\n",
        "\n",
        "Spectrogram Generators:\n",
        "- [Tacotron 2](https://ngc.nvidia.com/catalog/models/nvidia:nemo:tts_en_tacotron2)\n",
        "- [FastPitch](https://ngc.nvidia.com/catalog/models/nvidia:nemo:tts_en_fastpitch)\n",
        "- [Mixer-TTS](https://ngc.nvidia.com/catalog/models/nvidia:nemo:tts_en_lj_mixertts)\n",
        "- [Mixer-TTS-X](https://ngc.nvidia.com/catalog/models/nvidia:nemo:tts_en_lj_mixerttsx)\n",
        "\n",
        "Audio Generators\n",
        "- [WaveGlow](https://ngc.nvidia.com/catalog/models/nvidia:nemo:tts_waveglow_88m)\n",
        "- [HiFiGAN](https://ngc.nvidia.com/catalog/models/nvidia:nemo:tts_hifigan)\n",
        "- [UnivNet](https://ngc.nvidia.com/catalog/models/nvidia:nemo:tts_en_lj_univnet)\n",
        "- Griffin-Lim"
      ]
    },
    {
      "cell_type": "code",
      "execution_count": 15,
      "metadata": {
        "tags": [],
        "id": "Y-QIYWDjkVd4",
        "outputId": "c9a41412-00b3-414b-abc0-012eed02111c",
        "colab": {
          "base_uri": "https://localhost:8080/",
          "height": 129,
          "referenced_widgets": [
            "1a8db97b9533412c866e731a7299ad66",
            "39637d52063e456aa8cce43d888a2aeb",
            "753f30677360439590e899d07b43656b",
            "778cc0ac84274ff09f88da0277a2e7e6",
            "afbdcdf8b295476f959c98bd65419e45",
            "760c219f987f48efb2ab68b2d377fa32",
            "b40178da2c0d488eb1a0a0fd8d9c73a9",
            "2e05cd9bb8df4c97a3895560b7772071",
            "549af7c0ee2a4d309ede3b9e228e93f9",
            "0beddaa8fa6c43299f53f1e1a7885e3e",
            "e80937aa4e1d4b139b4454f2c015d476"
          ]
        }
      },
      "outputs": [
        {
          "output_type": "stream",
          "name": "stdout",
          "text": [
            "Select the model(s) that you want to use. Please choose 1 spectrogram generator and 1 vocoder.\n"
          ]
        },
        {
          "output_type": "display_data",
          "data": {
            "text/plain": [
              "HBox(children=(Select(options=('tacotron2', 'fastpitch', 'mixertts', 'mixerttsx', 'fastspeech2', 'talknet', No…"
            ],
            "application/vnd.jupyter.widget-view+json": {
              "version_major": 2,
              "version_minor": 0,
              "model_id": "1a8db97b9533412c866e731a7299ad66"
            }
          },
          "metadata": {}
        }
      ],
      "source": [
        "from ipywidgets import Select, HBox, Label\n",
        "from IPython.display import display\n",
        "\n",
        "supported_spec_gen = [\"tacotron2\", \"fastpitch\", \"mixertts\", \"mixerttsx\",\"fastspeech2\",\"talknet\", None]\n",
        "supported_audio_gen = [\"waveglow\", \"hifigan\", \"univnet\", \"griffin-lim\", None]\n",
        "\n",
        "print(\"Select the model(s) that you want to use. Please choose 1 spectrogram generator and 1 vocoder.\")\n",
        "spectrogram_generator_selector = Select(options=supported_spec_gen, value=None)\n",
        "audio_generator_selector = Select(options=supported_audio_gen, value=None)\n",
        "display(HBox([spectrogram_generator_selector, Label(\"+\"), audio_generator_selector]))"
      ]
    },
    {
      "cell_type": "code",
      "execution_count": 16,
      "metadata": {
        "id": "pk15SxHIkVd4"
      },
      "outputs": [],
      "source": [
        "spectrogram_generator = spectrogram_generator_selector.value\n",
        "audio_generator = audio_generator_selector.value\n",
        "\n",
        "if spectrogram_generator is None and audio_generator is None:\n",
        "    raise ValueError(\"No models were chosen. Please return to the previous step and choose either 1 end-to-end model or 1 spectrogram generator and 1 vocoder.\")\n",
        "\n",
        "if (spectrogram_generator and audio_generator is None) or (audio_generator and spectrogram_generator is None):\n",
        "    raise ValueError(\"In order to continue with the two step pipeline, both the spectrogram generator and the audio generator must be chosen, but one was `None`\")"
      ]
    },
    {
      "cell_type": "markdown",
      "metadata": {
        "id": "fBNrJA92kVd4"
      },
      "source": [
        "## Load model checkpoints\n",
        "\n",
        "Next we load the pretrained model provided by NeMo. All NeMo models have two functions to help with this\n",
        "\n",
        "- list_available_models(): This function will return a list of all pretrained checkpoints for that model\n",
        "- from_pretrained(): This function will download the pretrained checkpoint, load it, and return an instance of the model\n",
        "\n",
        "Below we will use `from_pretrained` to load the chosen models from above."
      ]
    },
    {
      "cell_type": "code",
      "execution_count": 17,
      "metadata": {
        "scrolled": false,
        "tags": [],
        "id": "3AKmHxq7kVd5",
        "outputId": "642b515c-9c33-426c-d32d-727d13c52cbd",
        "colab": {
          "base_uri": "https://localhost:8080/"
        }
      },
      "outputs": [
        {
          "output_type": "stream",
          "name": "stdout",
          "text": [
            "[NeMo I 2022-09-25 17:58:01 cloud:66] Downloading from: https://api.ngc.nvidia.com/v2/models/nvidia/nemo/tts_en_tacotron2/versions/1.0.0/files/tts_en_tacotron2.nemo to /root/.cache/torch/NeMo/NeMo_1.11.0/tts_en_tacotron2/74d819609f47744063679b44e93a47f1/tts_en_tacotron2.nemo\n",
            "[NeMo I 2022-09-25 17:58:07 common:910] Instantiating model from pre-trained checkpoint\n"
          ]
        },
        {
          "output_type": "stream",
          "name": "stderr",
          "text": [
            "[NeMo W 2022-09-25 17:58:09 modelPT:143] If you intend to do training or fine-tuning, please call the ModelPT.setup_training_data() method and provide a valid configuration file to setup the train data loader.\n",
            "    Train config : \n",
            "    dataset:\n",
            "      _target_: nemo.collections.asr.data.audio_to_text.AudioToCharDataset\n",
            "      manifest_filepath: /raid/LJSpeech/nvidia_ljspeech_train.json\n",
            "      max_duration: null\n",
            "      min_duration: 0.1\n",
            "      trim: false\n",
            "      int_values: false\n",
            "      load_audio: true\n",
            "      normalize: true\n",
            "      sample_rate: 22050\n",
            "    dataloader_params:\n",
            "      drop_last: false\n",
            "      shuffle: true\n",
            "      batch_size: 48\n",
            "      num_workers: 4\n",
            "    \n",
            "[NeMo W 2022-09-25 17:58:09 modelPT:150] If you intend to do validation, please call the ModelPT.setup_validation_data() or ModelPT.setup_multiple_validation_data() method and provide a valid configuration file to setup the validation data loader(s). \n",
            "    Validation config : \n",
            "    dataset:\n",
            "      _target_: nemo.collections.asr.data.audio_to_text.AudioToCharDataset\n",
            "      manifest_filepath: /raid/LJSpeech/nvidia_ljspeech_val.json\n",
            "      max_duration: null\n",
            "      min_duration: 0.1\n",
            "      int_values: false\n",
            "      load_audio: true\n",
            "      normalize: true\n",
            "      sample_rate: 22050\n",
            "      trim: false\n",
            "    dataloader_params:\n",
            "      drop_last: false\n",
            "      shuffle: false\n",
            "      batch_size: 48\n",
            "      num_workers: 8\n",
            "    \n"
          ]
        },
        {
          "output_type": "stream",
          "name": "stdout",
          "text": [
            "[NeMo I 2022-09-25 17:58:09 features:223] PADDING: 16\n",
            "[NeMo I 2022-09-25 17:58:10 save_restore_connector:243] Model Tacotron2Model was successfully restored from /root/.cache/torch/NeMo/NeMo_1.11.0/tts_en_tacotron2/74d819609f47744063679b44e93a47f1/tts_en_tacotron2.nemo.\n",
            "[NeMo I 2022-09-25 17:58:10 cloud:66] Downloading from: https://api.ngc.nvidia.com/v2/models/nvidia/nemo/tts_waveglow_88m/versions/1.0.0/files/tts_waveglow.nemo to /root/.cache/torch/NeMo/NeMo_1.11.0/tts_waveglow/be8c69c04450b3da0ce5a38a8ef4014f/tts_waveglow.nemo\n",
            "[NeMo I 2022-09-25 17:58:23 common:910] Instantiating model from pre-trained checkpoint\n"
          ]
        },
        {
          "output_type": "stream",
          "name": "stderr",
          "text": [
            "[NeMo W 2022-09-25 17:58:27 modelPT:143] If you intend to do training or fine-tuning, please call the ModelPT.setup_training_data() method and provide a valid configuration file to setup the train data loader.\n",
            "    Train config : \n",
            "    dataset:\n",
            "      _target_: nemo.collections.tts.data.datalayers.AudioDataset\n",
            "      manifest_filepath: /raid/LJSpeech/nvidia_ljspeech_train.json\n",
            "      max_duration: null\n",
            "      min_duration: 0.1\n",
            "      n_segments: 16000\n",
            "      trim: false\n",
            "    dataloader_params:\n",
            "      drop_last: false\n",
            "      shuffle: true\n",
            "      batch_size: 12\n",
            "      num_workers: 4\n",
            "    \n",
            "[NeMo W 2022-09-25 17:58:27 modelPT:150] If you intend to do validation, please call the ModelPT.setup_validation_data() or ModelPT.setup_multiple_validation_data() method and provide a valid configuration file to setup the validation data loader(s). \n",
            "    Validation config : \n",
            "    dataset:\n",
            "      _target_: nemo.collections.tts.data.datalayers.AudioDataset\n",
            "      manifest_filepath: /raid/LJSpeech/nvidia_ljspeech_val.json\n",
            "      max_duration: null\n",
            "      min_duration: 0.1\n",
            "      n_segments: -1\n",
            "      trim: false\n",
            "    dataloader_params:\n",
            "      drop_last: false\n",
            "      shuffle: false\n",
            "      batch_size: 8\n",
            "      num_workers: 4\n",
            "    \n"
          ]
        },
        {
          "output_type": "stream",
          "name": "stdout",
          "text": [
            "[NeMo I 2022-09-25 17:58:27 features:223] PADDING: 16\n"
          ]
        },
        {
          "output_type": "stream",
          "name": "stderr",
          "text": [
            "[NeMo W 2022-09-25 17:58:27 nemo_logging:349] /usr/local/lib/python3.7/dist-packages/nemo/collections/tts/modules/submodules.py:274: UserWarning: torch.qr is deprecated in favor of torch.linalg.qr and will be removed in a future PyTorch release.\n",
            "    The boolean parameter 'some' has been replaced with a string parameter 'mode'.\n",
            "    Q, R = torch.qr(A, some)\n",
            "    should be replaced with\n",
            "    Q, R = torch.linalg.qr(A, 'reduced' if some else 'complete') (Triggered internally at  ../aten/src/ATen/native/BatchLinearAlgebra.cpp:2491.)\n",
            "      W = torch.qr(torch.FloatTensor(c, c).normal_())[0]\n",
            "    \n"
          ]
        },
        {
          "output_type": "stream",
          "name": "stdout",
          "text": [
            "[NeMo I 2022-09-25 17:58:30 save_restore_connector:243] Model WaveGlowModel was successfully restored from /root/.cache/torch/NeMo/NeMo_1.11.0/tts_waveglow/be8c69c04450b3da0ce5a38a8ef4014f/tts_waveglow.nemo.\n"
          ]
        }
      ],
      "source": [
        "from omegaconf import OmegaConf, open_dict\n",
        "import torch\n",
        "from nemo.collections.tts.models.base import SpectrogramGenerator, Vocoder, TextToWaveform\n",
        "\n",
        "\n",
        "def load_spectrogram_model():\n",
        "    override_conf = None\n",
        "    \n",
        "    from_pretrained_call = SpectrogramGenerator.from_pretrained\n",
        "    \n",
        "    if spectrogram_generator == \"tacotron2\":\n",
        "        from nemo.collections.tts.models import Tacotron2Model\n",
        "        pretrained_model = \"tts_en_tacotron2\"\n",
        "    elif spectrogram_generator == \"fastpitch\":\n",
        "        from nemo.collections.tts.models import FastPitchModel\n",
        "        pretrained_model = \"tts_en_fastpitch\"\n",
        "    elif spectrogram_generator == \"mixertts\":\n",
        "        from nemo.collections.tts.models import MixerTTSModel\n",
        "        pretrained_model = \"tts_en_lj_mixertts\"\n",
        "    elif spectrogram_generator == \"mixerttsx\":\n",
        "        from nemo.collections.tts.models import MixerTTSModel\n",
        "        pretrained_model = \"tts_en_lj_mixerttsx\"\n",
        "    elif spectrogram_generator == \"fastspeech2\":\n",
        "        from nemo.collections.tts.models import FastSpeech2Model\n",
        "        pretrained_model = \"tts_en_fastspeech2\"\n",
        "    elif spectrogram_generator == \"talknet\":\n",
        "        from nemo.collections.tts.models import TalkNetSpectModel\n",
        "        pretrained_model = \"tts_en_talknet\"\n",
        "    else:\n",
        "        raise NotImplementedError\n",
        "        \n",
        "    model = from_pretrained_call(pretrained_model, override_config_path=override_conf)\n",
        "    \n",
        "    return model\n",
        "\n",
        "\n",
        "def load_vocoder_model():\n",
        "    TwoStagesModel = False\n",
        "    strict=True\n",
        "    \n",
        "    if audio_generator == \"waveglow\":\n",
        "        from nemo.collections.tts.models import WaveGlowModel\n",
        "        pretrained_model = \"tts_waveglow\"\n",
        "        strict=False\n",
        "    elif audio_generator == \"hifigan\":\n",
        "        from nemo.collections.tts.models import HifiGanModel\n",
        "        spectrogram_generator2ft_hifigan = {\n",
        "            \"mixertts\": \"tts_en_lj_hifigan_ft_mixertts\",\n",
        "            \"mixerttsx\": \"tts_en_lj_hifigan_ft_mixerttsx\"\n",
        "        }\n",
        "        pretrained_model = spectrogram_generator2ft_hifigan.get(spectrogram_generator, \"tts_hifigan\")\n",
        "    elif audio_generator == \"univnet\":\n",
        "        from nemo.collections.tts.models import UnivNetModel\n",
        "        pretrained_model = \"tts_en_lj_univnet\"\n",
        "    elif audio_generator == \"griffin-lim\":\n",
        "        from nemo.collections.tts.models import TwoStagesModel\n",
        "        cfg = {'linvocoder':  {'_target_': 'nemo.collections.tts.models.two_stages.GriffinLimModel',\n",
        "                             'cfg': {'n_iters': 64, 'n_fft': 1024, 'l_hop': 256}},\n",
        "               'mel2spec': {'_target_': 'nemo.collections.tts.models.two_stages.MelPsuedoInverseModel',\n",
        "                           'cfg': {'sampling_rate': 22050, 'n_fft': 1024, \n",
        "                                   'mel_fmin': 0, 'mel_fmax': 8000, 'mel_freq': 80}}}\n",
        "        model = TwoStagesModel(cfg)            \n",
        "        TwoStagesModel = True\n",
        "    else:\n",
        "        raise NotImplementedError\n",
        "\n",
        "    if not TwoStagesModel:\n",
        "        model = Vocoder.from_pretrained(pretrained_model, strict=strict)\n",
        "        \n",
        "    return model\n",
        "\n",
        "spec_gen = load_spectrogram_model().eval()\n",
        "vocoder = load_vocoder_model().eval()"
      ]
    },
    {
      "cell_type": "markdown",
      "metadata": {
        "id": "EKYi6u15kVd5"
      },
      "source": [
        "## Inference\n",
        "\n",
        "Now that we have downloaded the model checkpoints and loaded them into memory. Let's define a short infer helper function that takes a string, and our models to produce speech.\n",
        "\n",
        "Notice that the NeMo TTS model interface is fairly simple and standardized across all models.\n",
        "\n",
        "End-to-end models have two helper functions:\n",
        "- parse(): Accepts raw python strings and returns a torch.tensor that represents tokenized text\n",
        "- convert_text_to_waveform(): Accepts a batch of tokenized text and returns a torch.tensor that represents a batch of raw audio\n",
        "\n",
        "Mel Spectrogram generators have two helper functions:\n",
        "\n",
        "- parse(): Accepts raw python strings and returns a torch.tensor that represents tokenized text\n",
        "- generate_spectrogram(): Accepts a batch of tokenized text and returns a torch.tensor that represents a batch of spectrograms\n",
        "\n",
        "Vocoder have just one helper function:\n",
        "\n",
        "- convert_spectrogram_to_audio(): Accepts a batch of spectrograms and returns a torch.tensor that represents a batch of raw audio"
      ]
    },
    {
      "cell_type": "code",
      "execution_count": 18,
      "metadata": {
        "id": "3PVXyrA2kVd5"
      },
      "outputs": [],
      "source": [
        "def infer(spec_gen_model, vocoder_model, str_input):\n",
        "    parser_model = spec_gen_model\n",
        "    with torch.no_grad():\n",
        "        parsed = parser_model.parse(str_input)\n",
        "        gen_spec_kwargs = {}\n",
        "        \n",
        "        if spectrogram_generator == \"mixerttsx\":\n",
        "            gen_spec_kwargs[\"raw_texts\"] = [str_input]\n",
        "        \n",
        "        spectrogram = spec_gen_model.generate_spectrogram(tokens=parsed, **gen_spec_kwargs)\n",
        "        audio = vocoder_model.convert_spectrogram_to_audio(spec=spectrogram)\n",
        "        \n",
        "        if audio_generator == \"hifigan\":\n",
        "            audio = vocoder_model._bias_denoise(audio, spectrogram).squeeze(1)\n",
        "    if spectrogram is not None:\n",
        "        if isinstance(spectrogram, torch.Tensor):\n",
        "            spectrogram = spectrogram.to('cpu').numpy()\n",
        "        if len(spectrogram.shape) == 3:\n",
        "            spectrogram = spectrogram[0]\n",
        "    if isinstance(audio, torch.Tensor):\n",
        "        audio = audio.to('cpu').numpy()\n",
        "    return spectrogram, audio"
      ]
    },
    {
      "cell_type": "markdown",
      "metadata": {
        "id": "tSV7W5QKkVd5"
      },
      "source": [
        "Now that everything is set up, let's give an input that we want our models to speak"
      ]
    },
    {
      "cell_type": "code",
      "execution_count": 19,
      "metadata": {
        "id": "FUZcgnNzkVd6",
        "outputId": "ff02ad5f-e821-49bb-c1da-0ccf5a087fa0",
        "colab": {
          "base_uri": "https://localhost:8080/"
        }
      },
      "outputs": [
        {
          "name": "stdout",
          "output_type": "stream",
          "text": [
            "Input what you want the model to say: hello, brother\n"
          ]
        },
        {
          "output_type": "stream",
          "name": "stderr",
          "text": [
            "[NeMo W 2022-09-25 17:59:09 nemo_logging:349] /usr/local/lib/python3.7/dist-packages/torch/functional.py:607: UserWarning: stft will soon require the return_complex parameter be given for real inputs, and will further require that return_complex=True in a future PyTorch release. (Triggered internally at  ../aten/src/ATen/native/SpectralOps.cpp:800.)\n",
            "      normalized, onesided, return_complex)\n",
            "    \n"
          ]
        }
      ],
      "source": [
        "text_to_generate = input(\"Input what you want the model to say: \")\n",
        "spec, audio = infer(spec_gen, vocoder, text_to_generate)"
      ]
    },
    {
      "cell_type": "markdown",
      "metadata": {
        "id": "rYUW-gSRkVd6"
      },
      "source": [
        "# Results\n",
        "\n",
        "After our model generates the audio, let's go ahead and play it. We can also visualize the spectrogram that was produced from the first stage model if a spectrogram generator was used."
      ]
    },
    {
      "cell_type": "code",
      "execution_count": 20,
      "metadata": {
        "id": "cifY3EhlkVd6",
        "outputId": "09e1c278-2c6b-4b9d-d7e1-ff46d9fe8e0d",
        "colab": {
          "base_uri": "https://localhost:8080/",
          "height": 75
        }
      },
      "outputs": [
        {
          "output_type": "execute_result",
          "data": {
            "text/plain": [
              "<IPython.lib.display.Audio object>"
            ],
            "text/html": [
              "\n",
              "                <audio  controls=\"controls\" >\n",
              "                    <source src=\"data:audio/wav;base64,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\" type=\"audio/wav\" />\n",
              "                    Your browser does not support the audio element.\n",
              "                </audio>\n",
              "              "
            ]
          },
          "metadata": {},
          "execution_count": 20
        }
      ],
      "source": [
        "import IPython.display as ipd\n",
        "import numpy as np\n",
        "from PIL import Image\n",
        "from matplotlib.pyplot import imshow\n",
        "from matplotlib import pyplot as plt\n",
        "\n",
        "ipd.Audio(audio, rate=22050)"
      ]
    },
    {
      "cell_type": "code",
      "execution_count": 21,
      "metadata": {
        "id": "n0kyMqTdkVd6",
        "outputId": "e19235e0-e487-47d9-b249-d7225acb3c60",
        "colab": {
          "base_uri": "https://localhost:8080/",
          "height": 265
        }
      },
      "outputs": [
        {
          "output_type": "display_data",
          "data": {
            "text/plain": [
              "<Figure size 432x288 with 1 Axes>"
            ],
            "image/png": "[encoded data removed]"
          },
          "metadata": {
            "needs_background": "light"
          }
        }
      ],
      "source": [
        "%matplotlib inline\n",
        "if spec is not None:\n",
        "    imshow(spec, origin=\"lower\")\n",
        "    plt.show()"
      ]
    },
    {
      "cell_type": "code",
      "source": [],
      "metadata": {
        "id": "qAWFcuiAzuDv"
      },
      "execution_count": null,
      "outputs": []
    }
  ],
  "metadata": {
    "interpreter": {
      "hash": "9750c3195c8cb9412c65c8ba8b36c6ba2b82b23ddd61f39d29e01b403b049680"
    },
    "kernelspec": {
      "display_name": "Python 3 (ipykernel)",
      "language": "python",
      "name": "python3"
    },
    "language_info": {
      "codemirror_mode": {
        "name": "ipython",
        "version": 3
      },
      "file_extension": ".py",
      "mimetype": "text/x-python",
      "name": "python",
      "nbconvert_exporter": "python",
      "pygments_lexer": "ipython3",
      "version": "3.8.6"
    },
    "colab": {
      "provenance": []
    },
    "widgets": {
      "application/vnd.jupyter.widget-state+json": {
        "1a8db97b9533412c866e731a7299ad66": {
          "model_module": "@jupyter-widgets/controls",
          "model_name": "HBoxModel",
          "model_module_version": "1.5.0",
          "state": {
            "_dom_classes": [],
            "_model_module": "@jupyter-widgets/controls",
            "_model_module_version": "1.5.0",
            "_model_name": "HBoxModel",
            "_view_count": null,
            "_view_module": "@jupyter-widgets/controls",
            "_view_module_version": "1.5.0",
            "_view_name": "HBoxView",
            "box_style": "",
            "children": [
              "IPY_MODEL_39637d52063e456aa8cce43d888a2aeb",
              "IPY_MODEL_753f30677360439590e899d07b43656b",
              "IPY_MODEL_778cc0ac84274ff09f88da0277a2e7e6"
            ],
            "layout": "IPY_MODEL_afbdcdf8b295476f959c98bd65419e45"
          }
        },
        "39637d52063e456aa8cce43d888a2aeb": {
          "model_module": "@jupyter-widgets/controls",
          "model_name": "SelectModel",
          "model_module_version": "1.5.0",
          "state": {
            "_dom_classes": [],
            "_model_module": "@jupyter-widgets/controls",
            "_model_module_version": "1.5.0",
            "_model_name": "SelectModel",
            "_options_labels": [
              "tacotron2",
              "fastpitch",
              "mixertts",
              "mixerttsx",
              "fastspeech2",
              "talknet",
              "None"
            ],
            "_view_count": null,
            "_view_module": "@jupyter-widgets/controls",
            "_view_module_version": "1.5.0",
            "_view_name": "SelectView",
            "description": "",
            "description_tooltip": null,
            "disabled": false,
            "index": 0,
            "layout": "IPY_MODEL_760c219f987f48efb2ab68b2d377fa32",
            "rows": 5,
            "style": "IPY_MODEL_b40178da2c0d488eb1a0a0fd8d9c73a9"
          }
        },
        "753f30677360439590e899d07b43656b": {
          "model_module": "@jupyter-widgets/controls",
          "model_name": "LabelModel",
          "model_module_version": "1.5.0",
          "state": {
            "_dom_classes": [],
            "_model_module": "@jupyter-widgets/controls",
            "_model_module_version": "1.5.0",
            "_model_name": "LabelModel",
            "_view_count": null,
            "_view_module": "@jupyter-widgets/controls",
            "_view_module_version": "1.5.0",
            "_view_name": "LabelView",
            "description": "",
            "description_tooltip": null,
            "layout": "IPY_MODEL_2e05cd9bb8df4c97a3895560b7772071",
            "placeholder": "​",
            "style": "IPY_MODEL_549af7c0ee2a4d309ede3b9e228e93f9",
            "value": "+"
          }
        },
        "778cc0ac84274ff09f88da0277a2e7e6": {
          "model_module": "@jupyter-widgets/controls",
          "model_name": "SelectModel",
          "model_module_version": "1.5.0",
          "state": {
            "_dom_classes": [],
            "_model_module": "@jupyter-widgets/controls",
            "_model_module_version": "1.5.0",
            "_model_name": "SelectModel",
            "_options_labels": [
              "waveglow",
              "hifigan",
              "univnet",
              "griffin-lim",
              "None"
            ],
            "_view_count": null,
            "_view_module": "@jupyter-widgets/controls",
            "_view_module_version": "1.5.0",
            "_view_name": "SelectView",
            "description": "",
            "description_tooltip": null,
            "disabled": false,
            "index": 0,
            "layout": "IPY_MODEL_0beddaa8fa6c43299f53f1e1a7885e3e",
            "rows": 5,
            "style": "IPY_MODEL_e80937aa4e1d4b139b4454f2c015d476"
          }
        },
        "afbdcdf8b295476f959c98bd65419e45": {
          "model_module": "@jupyter-widgets/base",
          "model_name": "LayoutModel",
          "model_module_version": "1.2.0",
          "state": {
            "_model_module": "@jupyter-widgets/base",
            "_model_module_version": "1.2.0",
            "_model_name": "LayoutModel",
            "_view_count": null,
            "_view_module": "@jupyter-widgets/base",
            "_view_module_version": "1.2.0",
            "_view_name": "LayoutView",
            "align_content": null,
            "align_items": null,
            "align_self": null,
            "border": null,
            "bottom": null,
            "display": null,
            "flex": null,
            "flex_flow": null,
            "grid_area": null,
            "grid_auto_columns": null,
            "grid_auto_flow": null,
            "grid_auto_rows": null,
            "grid_column": null,
            "grid_gap": null,
            "grid_row": null,
            "grid_template_areas": null,
            "grid_template_columns": null,
            "grid_template_rows": null,
            "height": null,
            "justify_content": null,
            "justify_items": null,
            "left": null,
            "margin": null,
            "max_height": null,
            "max_width": null,
            "min_height": null,
            "min_width": null,
            "object_fit": null,
            "object_position": null,
            "order": null,
            "overflow": null,
            "overflow_x": null,
            "overflow_y": null,
            "padding": null,
            "right": null,
            "top": null,
            "visibility": null,
            "width": null
          }
        },
        "760c219f987f48efb2ab68b2d377fa32": {
          "model_module": "@jupyter-widgets/base",
          "model_name": "LayoutModel",
          "model_module_version": "1.2.0",
          "state": {
            "_model_module": "@jupyter-widgets/base",
            "_model_module_version": "1.2.0",
            "_model_name": "LayoutModel",
            "_view_count": null,
            "_view_module": "@jupyter-widgets/base",
            "_view_module_version": "1.2.0",
            "_view_name": "LayoutView",
            "align_content": null,
            "align_items": null,
            "align_self": null,
            "border": null,
            "bottom": null,
            "display": null,
            "flex": null,
            "flex_flow": null,
            "grid_area": null,
            "grid_auto_columns": null,
            "grid_auto_flow": null,
            "grid_auto_rows": null,
            "grid_column": null,
            "grid_gap": null,
            "grid_row": null,
            "grid_template_areas": null,
            "grid_template_columns": null,
            "grid_template_rows": null,
            "height": null,
            "justify_content": null,
            "justify_items": null,
            "left": null,
            "margin": null,
            "max_height": null,
            "max_width": null,
            "min_height": null,
            "min_width": null,
            "object_fit": null,
            "object_position": null,
            "order": null,
            "overflow": null,
            "overflow_x": null,
            "overflow_y": null,
            "padding": null,
            "right": null,
            "top": null,
            "visibility": null,
            "width": null
          }
        },
        "b40178da2c0d488eb1a0a0fd8d9c73a9": {
          "model_module": "@jupyter-widgets/controls",
          "model_name": "DescriptionStyleModel",
          "model_module_version": "1.5.0",
          "state": {
            "_model_module": "@jupyter-widgets/controls",
            "_model_module_version": "1.5.0",
            "_model_name": "DescriptionStyleModel",
            "_view_count": null,
            "_view_module": "@jupyter-widgets/base",
            "_view_module_version": "1.2.0",
            "_view_name": "StyleView",
            "description_width": ""
          }
        },
        "2e05cd9bb8df4c97a3895560b7772071": {
          "model_module": "@jupyter-widgets/base",
          "model_name": "LayoutModel",
          "model_module_version": "1.2.0",
          "state": {
            "_model_module": "@jupyter-widgets/base",
            "_model_module_version": "1.2.0",
            "_model_name": "LayoutModel",
            "_view_count": null,
            "_view_module": "@jupyter-widgets/base",
            "_view_module_version": "1.2.0",
            "_view_name": "LayoutView",
            "align_content": null,
            "align_items": null,
            "align_self": null,
            "border": null,
            "bottom": null,
            "display": null,
            "flex": null,
            "flex_flow": null,
            "grid_area": null,
            "grid_auto_columns": null,
            "grid_auto_flow": null,
            "grid_auto_rows": null,
            "grid_column": null,
            "grid_gap": null,
            "grid_row": null,
            "grid_template_areas": null,
            "grid_template_columns": null,
            "grid_template_rows": null,
            "height": null,
            "justify_content": null,
            "justify_items": null,
            "left": null,
            "margin": null,
            "max_height": null,
            "max_width": null,
            "min_height": null,
            "min_width": null,
            "object_fit": null,
            "object_position": null,
            "order": null,
            "overflow": null,
            "overflow_x": null,
            "overflow_y": null,
            "padding": null,
            "right": null,
            "top": null,
            "visibility": null,
            "width": null
          }
        },
        "549af7c0ee2a4d309ede3b9e228e93f9": {
          "model_module": "@jupyter-widgets/controls",
          "model_name": "DescriptionStyleModel",
          "model_module_version": "1.5.0",
          "state": {
            "_model_module": "@jupyter-widgets/controls",
            "_model_module_version": "1.5.0",
            "_model_name": "DescriptionStyleModel",
            "_view_count": null,
            "_view_module": "@jupyter-widgets/base",
            "_view_module_version": "1.2.0",
            "_view_name": "StyleView",
            "description_width": ""
          }
        },
        "0beddaa8fa6c43299f53f1e1a7885e3e": {
          "model_module": "@jupyter-widgets/base",
          "model_name": "LayoutModel",
          "model_module_version": "1.2.0",
          "state": {
            "_model_module": "@jupyter-widgets/base",
            "_model_module_version": "1.2.0",
            "_model_name": "LayoutModel",
            "_view_count": null,
            "_view_module": "@jupyter-widgets/base",
            "_view_module_version": "1.2.0",
            "_view_name": "LayoutView",
            "align_content": null,
            "align_items": null,
            "align_self": null,
            "border": null,
            "bottom": null,
            "display": null,
            "flex": null,
            "flex_flow": null,
            "grid_area": null,
            "grid_auto_columns": null,
            "grid_auto_flow": null,
            "grid_auto_rows": null,
            "grid_column": null,
            "grid_gap": null,
            "grid_row": null,
            "grid_template_areas": null,
            "grid_template_columns": null,
            "grid_template_rows": null,
            "height": null,
            "justify_content": null,
            "justify_items": null,
            "left": null,
            "margin": null,
            "max_height": null,
            "max_width": null,
            "min_height": null,
            "min_width": null,
            "object_fit": null,
            "object_position": null,
            "order": null,
            "overflow": null,
            "overflow_x": null,
            "overflow_y": null,
            "padding": null,
            "right": null,
            "top": null,
            "visibility": null,
            "width": null
          }
        },
        "e80937aa4e1d4b139b4454f2c015d476": {
          "model_module": "@jupyter-widgets/controls",
          "model_name": "DescriptionStyleModel",
          "model_module_version": "1.5.0",
          "state": {
            "_model_module": "@jupyter-widgets/controls",
            "_model_module_version": "1.5.0",
            "_model_name": "DescriptionStyleModel",
            "_view_count": null,
            "_view_module": "@jupyter-widgets/base",
            "_view_module_version": "1.2.0",
            "_view_name": "StyleView",
            "description_width": ""
          }
        }
      }
    }
  },
  "nbformat": 4,
  "nbformat_minor": 0
}